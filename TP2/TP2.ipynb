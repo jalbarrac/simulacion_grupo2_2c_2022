{
 "cells": [
  {
   "cell_type": "markdown",
   "id": "5c2cd7e5",
   "metadata": {
    "slideshow": {
     "slide_type": "slide"
    }
   },
   "source": [
    "# Trabajo Práctico 2"
   ]
  },
  {
   "cell_type": "markdown",
   "id": "f2482769",
   "metadata": {
    "slideshow": {
     "slide_type": "slide"
    }
   },
   "source": [
    "## Page Rank de Actores y Actrices"
   ]
  },
  {
   "cell_type": "code",
   "execution_count": null,
   "id": "7437d3ff",
   "metadata": {
    "slideshow": {
     "slide_type": "subslide"
    }
   },
   "outputs": [],
   "source": [
    "import os\n",
    "from bs4 import BeautifulSoup\n",
    "\n",
    "DIR = 'TP2/paginas'\n",
    "PAGINAS = os.listdir(DIR)\n",
    "\n",
    "links = [] # Lista de tuplas de src->dst\n",
    "palabras = {} # Dict de pagina: palabras\n",
    "\n",
    "for f in PAGINAS:\n",
    "    with open(os.path.join(DIR, f)) as file:\n",
    "        soup = BeautifulSoup(file.read())\n",
    "        palabras[f] = soup.get_text().split()\n",
    "\n",
    "        for link in soup.find_all('a'):\n",
    "            dst = link.get('href').replace('http://','')\n",
    "            links.append((f,dst))\n",
    "\n",
    "links"
   ]
  },
  {
   "cell_type": "code",
   "execution_count": null,
   "id": "053d3560",
   "metadata": {
    "slideshow": {
     "slide_type": "skip"
    }
   },
   "outputs": [],
   "source": [
    "import matplotlib.pyplot as plt\n",
    "import matplotlib.pylab as pylab\n",
    "params = {\n",
    "    'figure.figsize': (10, 6),\n",
    "}\n",
    "pylab.rcParams.update(params)"
   ]
  },
  {
   "cell_type": "code",
   "execution_count": null,
   "id": "95cc522a",
   "metadata": {
    "slideshow": {
     "slide_type": "subslide"
    }
   },
   "outputs": [],
   "source": [
    "import networkx as nx\n",
    "\n",
    "G = nx.DiGraph()\n",
    "G.add_edges_from(links)\n",
    "nx.draw_shell(G, with_labels=True, node_color='white', edge_color='grey')"
   ]
  },
  {
   "cell_type": "code",
   "execution_count": null,
   "id": "75a42499",
   "metadata": {
    "slideshow": {
     "slide_type": "subslide"
    }
   },
   "outputs": [],
   "source": [
    "matriz_ady = nx.to_pandas_adjacency(G)\n",
    "matriz_ady"
   ]
  },
  {
   "cell_type": "code",
   "execution_count": null,
   "id": "a759ff2d",
   "metadata": {
    "slideshow": {
     "slide_type": "subslide"
    }
   },
   "outputs": [],
   "source": [
    "suma_filas = matriz_ady.sum(axis=1)\n",
    "matriz_page_rank = matriz_ady.div(suma_filas, axis=0)\n",
    "matriz_page_rank.fillna(1/len(PAGINAS), inplace=True)\n",
    "matriz_page_rank"
   ]
  },
  {
   "cell_type": "code",
   "execution_count": null,
   "id": "26841a77",
   "metadata": {
    "slideshow": {
     "slide_type": "subslide"
    }
   },
   "outputs": [],
   "source": [
    "import numpy as np\n",
    "\n",
    "# Hacemos N iteraciones de la matriz\n",
    "iteraciones = np.linalg.matrix_power(matriz_page_rank, 50)\n",
    "\n",
    "page_rank = {p: iteraciones[0][i] for i, p in enumerate(matriz_page_rank.index)}\n",
    "page_rank"
   ]
  },
  {
   "cell_type": "code",
   "execution_count": null,
   "id": "405cc775",
   "metadata": {
    "slideshow": {
     "slide_type": "subslide"
    }
   },
   "outputs": [],
   "source": [
    "import random\n",
    "\n",
    "BUSQUEDAS = 20\n",
    "\n",
    "todas_palabras = set()\n",
    "for p in palabras.values():\n",
    "    todas_palabras.update(p)\n",
    "\n",
    "for p in random.choices(list(todas_palabras), k=BUSQUEDAS):\n",
    "    matches = [f for f in PAGINAS if p in palabras[f]]\n",
    "    print(f\"'{p}' aparece en: {sorted(matches, key=lambda x: -page_rank[x])}\")"
   ]
  }
 ],
 "metadata": {
  "celltoolbar": "Slideshow",
  "kernelspec": {
   "display_name": "Python 3 (ipykernel)",
   "language": "python",
   "name": "python3"
  },
  "language_info": {
   "codemirror_mode": {
    "name": "ipython",
    "version": 3
   },
   "file_extension": ".py",
   "mimetype": "text/x-python",
   "name": "python",
   "nbconvert_exporter": "python",
   "pygments_lexer": "ipython3",
   "version": "3.10.6"
  }
 },
 "nbformat": 4,
 "nbformat_minor": 5
}
