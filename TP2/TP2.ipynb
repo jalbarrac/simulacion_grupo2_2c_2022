{
 "cells": [
  {
   "cell_type": "markdown",
   "id": "5c2cd7e5",
   "metadata": {
    "slideshow": {
     "slide_type": "slide"
    }
   },
   "source": [
    "# Trabajo Práctico 2"
   ]
  },
  {
   "cell_type": "markdown",
   "id": "f2482769",
   "metadata": {
    "slideshow": {
     "slide_type": "slide"
    }
   },
   "source": [
    "## Page Rank de Actores y Actrices"
   ]
  },
  {
   "cell_type": "code",
   "execution_count": null,
   "id": "7437d3ff",
   "metadata": {
    "slideshow": {
     "slide_type": "subslide"
    }
   },
   "outputs": [],
   "source": [
    "import os\n",
    "from bs4 import BeautifulSoup\n",
    "\n",
    "DIR = 'TP2/paginas'\n",
    "PAGINAS = os.listdir(DIR)\n",
    "\n",
    "links = [] # Lista de tuplas de src->dst\n",
    "palabras = {} # Dict de pagina: palabras\n",
    "\n",
    "for f in PAGINAS:\n",
    "    with open(os.path.join(DIR, f)) as file:\n",
    "        soup = BeautifulSoup(file.read())\n",
    "        palabras[f] = soup.get_text().split()\n",
    "\n",
    "        for link in soup.find_all('a'):\n",
    "            dst = link.get('href').replace('http://','')\n",
    "            links.append((f,dst))\n",
    "\n",
    "links"
   ]
  },
  {
   "cell_type": "code",
   "execution_count": null,
   "id": "053d3560",
   "metadata": {
    "slideshow": {
     "slide_type": "skip"
    }
   },
   "outputs": [],
   "source": [
    "import matplotlib.pyplot as plt\n",
    "import matplotlib.pylab as pylab\n",
    "params = {\n",
    "    'figure.figsize': (10, 6),\n",
    "}\n",
    "pylab.rcParams.update(params)"
   ]
  },
  {
   "cell_type": "code",
   "execution_count": null,
   "id": "95cc522a",
   "metadata": {
    "slideshow": {
     "slide_type": "subslide"
    }
   },
   "outputs": [],
   "source": [
    "import networkx as nx\n",
    "\n",
    "G = nx.DiGraph()\n",
    "G.add_edges_from(links)\n",
    "nx.draw_shell(G, with_labels=True, node_color='white', edge_color='grey')"
   ]
  },
  {
   "cell_type": "code",
   "execution_count": null,
   "id": "75a42499",
   "metadata": {
    "slideshow": {
     "slide_type": "subslide"
    }
   },
   "outputs": [],
   "source": [
    "matriz_ady = nx.to_pandas_adjacency(G)\n",
    "matriz_ady"
   ]
  },
  {
   "cell_type": "code",
   "execution_count": null,
   "id": "a759ff2d",
   "metadata": {
    "slideshow": {
     "slide_type": "subslide"
    }
   },
   "outputs": [],
   "source": [
    "suma_filas = matriz_ady.sum(axis=1)\n",
    "matriz_page_rank = matriz_ady.div(suma_filas, axis=0)\n",
    "matriz_page_rank.fillna(1/len(PAGINAS), inplace=True)\n",
    "matriz_page_rank"
   ]
  },
  {
   "cell_type": "code",
   "execution_count": null,
   "id": "26841a77",
   "metadata": {
    "slideshow": {
     "slide_type": "subslide"
    }
   },
   "outputs": [],
   "source": [
    "import numpy as np\n",
    "\n",
    "# Hacemos N iteraciones de la matriz\n",
    "iteraciones = np.linalg.matrix_power(matriz_page_rank, 50)\n",
    "\n",
    "page_rank = {p: iteraciones[0][i] for i, p in enumerate(matriz_page_rank.index)}\n",
    "page_rank"
   ]
  },
  {
   "cell_type": "code",
   "execution_count": null,
   "id": "405cc775",
   "metadata": {
    "slideshow": {
     "slide_type": "subslide"
    }
   },
   "outputs": [],
   "source": [
    "import random\n",
    "\n",
    "BUSQUEDAS = 20\n",
    "\n",
    "todas_palabras = set()\n",
    "for p in palabras.values():\n",
    "    todas_palabras.update(p)\n",
    "\n",
    "for p in random.choices(list(todas_palabras), k=BUSQUEDAS):\n",
    "    matches = [f for f in PAGINAS if p in palabras[f]]\n",
    "    print(f\"'{p}' aparece en: {sorted(matches, key=lambda x: -page_rank[x])}\")"
   ]
  },
  {
   "cell_type": "markdown",
   "id": "5064918c",
   "metadata": {
    "slideshow": {
     "slide_type": "slide"
    }
   },
   "source": [
    "# Diseño del Web Service"
   ]
  },
  {
   "cell_type": "code",
   "execution_count": 7,
   "id": "c64e40af",
   "metadata": {},
   "outputs": [],
   "source": [
    "from scipy.stats import expon, uniform"
   ]
  },
  {
   "cell_type": "code",
   "execution_count": 2,
   "id": "70cad87a",
   "metadata": {},
   "outputs": [],
   "source": [
    "class Consulta:\n",
    "    def __init__(self, tiempo_arribo, duracion, tiempo_finalizacion_anterior):\n",
    "        if tiempo_arribo < tiempo_finalizacion_anterior:\n",
    "            self.duracion_espera = tiempo_finalizacion_anterior - tiempo_arribo\n",
    "            self.tuvo_que_esperar = True\n",
    "        else:\n",
    "            self.duracion_espera = 0\n",
    "            self.tuvo_que_esperar = False\n",
    "                            \n",
    "        self.tiempo_finalizacion = tiempo_arribo + duracion + self.duracion_espera"
   ]
  },
  {
   "cell_type": "code",
   "execution_count": 3,
   "id": "5c4c5898",
   "metadata": {},
   "outputs": [],
   "source": [
    "def simular_consultas(tiempos_de_arribo, duraciones):\n",
    "    consultas = []\n",
    "\n",
    "    # Uso -1 como tiempo de finalizacion del anterior para que empieze ni bien llega\n",
    "    primera_consulta = Consulta(tiempos_de_arribo[0], duraciones[0], tiempo_finalizacion_anterior = -1)\n",
    "    consultas.append(primera_consulta)\n",
    "\n",
    "    for tiempo_arribo, duracion in zip(tiempos_de_arribo[1:], duraciones[1:]):\n",
    "        consulta = Consulta(tiempo_arribo,\n",
    "                        duracion, \n",
    "                        tiempo_finalizacion_anterior = consultas[-1].tiempo_finalizacion)\n",
    "        consultas.append(consulta)\n",
    "        \n",
    "    tiempo_espera_total = 0\n",
    "    cant_consultas_que_no_esperaron = 0\n",
    "    for consulta in consultas:\n",
    "        tiempo_espera_total += consulta.duracion_espera\n",
    "        if not consulta.tuvo_que_esperar:\n",
    "            cant_consultas_que_no_esperaron += 1\n",
    "\n",
    "    return tiempo_espera_total, cant_consultas_que_no_esperaron"
   ]
  },
  {
   "cell_type": "code",
   "execution_count": 13,
   "id": "9975ad62",
   "metadata": {},
   "outputs": [],
   "source": [
    "def mostrar_resultados(titulo, tiempo_espera_total, cant_consultas_que_no_esperaron, cant_consultas):\n",
    "    print(f\"--------------{titulo}--------------\")\n",
    "    print(f\"\\tEl tiempo de espera promedio fue {(round(tiempo_espera_total / cant_consultas, 2))} segundos\")\n",
    "    print(f\"\\tEl {cant_consultas_que_no_esperaron/cant_consultas}% de las consultas no tuvo que esperar\")"
   ]
  },
  {
   "cell_type": "code",
   "execution_count": 5,
   "id": "60086492",
   "metadata": {},
   "outputs": [],
   "source": [
    "def simular_consultas_centralizado(cant_consultas, media_tiempos_de_arribo, media_duraciones_consultas):\n",
    "    tiempos_de_arribo = expon.rvs(size=cant_consultas, scale=media_tiempos_de_arribo)\n",
    "    duraciones = expon.rvs(size=cant_consultas, scale=media_duraciones_consultas)\n",
    "    return simular_consultas(tiempos_de_arribo, duraciones)"
   ]
  },
  {
   "cell_type": "code",
   "execution_count": 14,
   "id": "ae7487b6",
   "metadata": {},
   "outputs": [
    {
     "name": "stdout",
     "output_type": "stream",
     "text": [
      "--------------Base de datos central--------------\n",
      "\tEl tiempo de espera promedio fue 40240757.92 segundos\n",
      "\tEl 0.02% de las consultas no tuvo que esperar\n"
     ]
    }
   ],
   "source": [
    "t, f = simular_consultas_centralizado(100000, 4, 0.8)\n",
    "mostrar_resultados(\"Base de datos central\", t,f, 100)"
   ]
  },
  {
   "cell_type": "code",
   "execution_count": 16,
   "id": "c42065a9",
   "metadata": {},
   "outputs": [],
   "source": [
    "def simular_consultas_distribuido(cant_consultas, media_tiempos_de_arribo,\n",
    "                                  media_duraciones_consultas1, media_duraciones_consultas2, p):\n",
    "    tiempos_de_arribo = expon.rvs(size=cant_consultas, scale=media_tiempos_de_arribo)\n",
    "    u = uniform.rvs(size=cant_consultas)\n",
    "    \n",
    "    tiempos_de_arribo1 = []\n",
    "    tiempos_de_arribo2 = []\n",
    "    \n",
    "    for ui, tiempo_de_arribo in zip(u, tiempos_de_arribo):\n",
    "        if p <= ui:\n",
    "            tiempos_de_arribo1.append(tiempo_de_arribo)\n",
    "        else:\n",
    "            tiempos_de_arribo2.append(tiempo_de_arribo)\n",
    "    \n",
    "    \n",
    "    duraciones1 = expon.rvs(size=len(tiempos_de_arribo1), scale=media_duraciones_consultas1)\n",
    "    t1, f1 = simular_consultas(tiempos_de_arribo1, duraciones1)\n",
    "    \n",
    "    duraciones2 = expon.rvs(size=len(tiempos_de_arribo2), scale=media_duraciones_consultas2)\n",
    "    t2, f2 = simular_consultas(tiempos_de_arribo2, duraciones2)\n",
    "    \n",
    "    return t1, f1, len(tiempos_de_arribo1), t2, f2, len(tiempos_de_arribo2)"
   ]
  },
  {
   "cell_type": "code",
   "execution_count": 17,
   "id": "dea5d08c",
   "metadata": {},
   "outputs": [
    {
     "name": "stdout",
     "output_type": "stream",
     "text": [
      "--------------Ambas bases distribuidas--------------\n",
      "\tEl tiempo de espera promedio fue 27491.39 segundos\n",
      "\tEl 4e-05% de las consultas no tuvo que esperar\n",
      "--------------Base de datos distribuida 1--------------\n",
      "\tEl tiempo de espera promedio fue 10697.71 segundos\n",
      "\tEl 3.312464805061446e-05% de las consultas no tuvo que esperar\n",
      "--------------Base de datos distribuida 2--------------\n",
      "\tEl tiempo de espera promedio fue 34753.63 segundos\n",
      "\tEl 2.8648780278179658e-05% de las consultas no tuvo que esperar\n"
     ]
    }
   ],
   "source": [
    "t1, f1, l1, t2, f2, l2 = simular_consultas_distribuido(100000, 4, 0.7, 1, 0.7)\n",
    "mostrar_resultados(\"Ambas bases distribuidas\", t1 + t2, f2 + f2, l1 + l2)\n",
    "mostrar_resultados(\"Base de datos distribuida 1\", t1, f1, l1)\n",
    "mostrar_resultados(\"Base de datos distribuida 2\", t2, f2, l2)"
   ]
  }
 ],
 "metadata": {
  "celltoolbar": "Slideshow",
  "kernelspec": {
   "display_name": "Python 3 (ipykernel)",
   "language": "python",
   "name": "python3"
  },
  "language_info": {
   "codemirror_mode": {
    "name": "ipython",
    "version": 3
   },
   "file_extension": ".py",
   "mimetype": "text/x-python",
   "name": "python",
   "nbconvert_exporter": "python",
   "pygments_lexer": "ipython3",
   "version": "3.10.6"
  }
 },
 "nbformat": 4,
 "nbformat_minor": 5
}
