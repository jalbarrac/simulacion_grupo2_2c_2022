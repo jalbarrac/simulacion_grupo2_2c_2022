{
 "cells": [
  {
   "cell_type": "markdown",
   "id": "ce33f6c9",
   "metadata": {},
   "source": [
    "# LXM\n",
    "\n",
    "> LXM: Better Splittable Pseudorandom Number Generators (and Almost as Fast)\n",
    "> - Paper: https://dl.acm.org/doi/abs/10.1145/3485525\n",
    "> - Video: https://youtu.be/OXurCqln_qc\n",
    "\n",
    "\n",
    "En el 2021 Guy Steele y Sebastiano Vigna presentaron un generador de números pseudo aleatorios (PRNG) que se construye a partir de otro PRNG en donde colaboro Guy Steele llamado SplitMix. La principal propiedad de ambos PRNGs es que estos generadores son partibles (_splittable_), es decir, se pueden dividir en dos nuevos generadores estadísticamente independientes, lo cual es de gran utilidad en ambientes concurrentes.\n",
    "\n",
    "LXM se basa en combinar tres ideas: un generador lineal congruente (la L), un generador basado en XORs (la X) y el resultado de la combinación de esos dos generadores utilizarlo como input en una función mezcladora (la M).\n",
    "\n",
    "En este trabajo nos centraremos específicamente en la parte práctica del algoritmo y lo re-implementaremos en nuestro propio código, evitando hablar tanto de la concurrencia como de la propiedad partible del algoritmo (lo cual consiste de la mayoría del paper de Guy Steele y Sebastiano Vigna). Las ideas principales surgen de la sección 2 del paper (`THE LXM GENERATION ALGORITHM`)"
   ]
  },
  {
   "cell_type": "markdown",
   "id": "4fa47b6d",
   "metadata": {},
   "source": [
    "## Ejercicio 1\n",
    "\n",
    "Sobre el generador de números al azar propuesto en el paper asignado, se pide:\n",
    "- Implementarlo en función de lo especificado en el documento.\n",
    "- Modificarlo (si aplica) para obtener números al azar entre 0 y 1\n",
    "- Realizar los gráficos que se consideren adecuados para mostrar las distribuciones de números al azar\n",
    "generados en ambos casos (explicar que se busca interpretar con cada uno)"
   ]
  },
  {
   "cell_type": "code",
   "execution_count": null,
   "id": "a14a937e",
   "metadata": {},
   "outputs": [
    {
     "name": "stdout",
     "output_type": "stream",
     "text": [
      "30224073581\n"
     ]
    }
   ],
   "source": [
    "def LXM(seed):  \n",
    "    def L(s, m=2891336453, a=1310709051, x0=0, x1=1, k=64):\n",
    "        \"\"\"Full-Period Linear Congruental PRNG with Power-of-Two Modulus\n",
    "        \n",
    "        - El multiplicador `m` debe cumplir `(m mod 8) = 5`\n",
    "        - El adicionador `a` debe ser un entero impar\n",
    "        - K determina el tamaño en bits del número a generar (32 o 64)\n",
    "        \"\"\"\n",
    "        return (m * s + a) % (2**k)\n",
    "    def X(x0 = 2521368290, x1 = 756546341, k = 32):\n",
    "        \"\"\"F2-linear PRNG: xoroshiro128_1.10\"\"\"\n",
    "        rotate_left = lambda n, d: (n << d)|(n >> (k - d))\n",
    "        \n",
    "        q0 = x0, q1 = x1;\n",
    "        q1 ^= q0;\n",
    "        q0 = rotate_left(q0, 24);\n",
    "        q0 = q0 ^ q1 ^ (q1 << 16);\n",
    "        q1 = rotate_left(q1, 37);\n",
    "        x0 = q0, x1 = q1;\n",
    "        pass\n",
    "    def M():\n",
    "        pass\n",
    "    return L(10)\n",
    "\n",
    "print(LXM(1))"
   ]
  },
  {
   "cell_type": "code",
   "execution_count": null,
   "id": "a8afd7da",
   "metadata": {},
   "outputs": [
    {
     "name": "stdout",
     "output_type": "stream",
     "text": [
      "248406675341966701360907727913358551756\n",
      "1043832433722000467235368176024546196021367528663\n",
      "3020261450004936141101267192058813145176361943279573799389\n",
      "9033676731583918517068380096377077345506981372434378294860272417272\n",
      "67500185099281986455451641035352444674986214491684867884850769985016252943372\n",
      "5882494877708633463023646289678164296219375519137283545033758419402844505907934953211233\n",
      "798669224101284646133860533884163046913752630062107202070471602736807738016721059661510617830766726\n",
      "109739831288922926578624437103748331218967009648559143901614391904372269482973656613224726899285744516575976873\n",
      "15082452711270142419493206526630503989545991098204497231338686331533007945066291614306666583317779468818673594300501390094\n"
     ]
    }
   ],
   "source": [
    "def LXM(s, m=2891336453, a=1310709051, x0=0, x1=1, k=64):\n",
    "    while True:\n",
    "        # Combining operation\n",
    "        z = s + x0\n",
    "        # Mixing function (lea64)\n",
    "        z = (z ^ (z >> 32)) * 0xdaba0b6eb09322e3\n",
    "        z = (z ^ (z >> 32)) * 0xdaba0b6eb09322e3\n",
    "        z = (z ^ (z >> 32))\n",
    "        # Update the LCG subgenerator\n",
    "        s = m * s + a\n",
    "        # Update the XBG subgenerator (xoroshiro128v1_0)\n",
    "        rotate_left = lambda n, d: (n << d) | (n >> (k - d))\n",
    "        q0 = x0; q1 = x1\n",
    "        q1 ^= q0\n",
    "        q0 = rotate_left(q0, 24)\n",
    "        q0 = q0 ^ q1 ^ (q1 << 16)\n",
    "        q1 = rotate_left(q1, 37)\n",
    "        x0 = q0; x1 = q1\n",
    "        # Return result\n",
    "        yield z\n",
    "\n",
    "g = LXM(1)\n",
    "print(next(g))\n",
    "print(next(g))\n",
    "print(next(g))\n",
    "print(next(g))\n",
    "print(next(g))\n",
    "print(next(g))\n",
    "print(next(g))\n",
    "print(next(g))\n",
    "print(next(g))"
   ]
  },
  {
   "cell_type": "markdown",
   "id": "93bc70a2",
   "metadata": {},
   "source": [
    "## Ejercicio 2\n",
    "\n",
    "Para los generadores implementados en el ejercicio 1:\n",
    "- Proponer, y realizar, al menos 3 tests para evaluar su comportamiento.\n",
    "- Evaluar e interpretar los resultados de cada test para distintos tamaños de muestras."
   ]
  },
  {
   "cell_type": "markdown",
   "id": "d62c6428",
   "metadata": {},
   "source": [
    "## Ejercicio 3\n",
    "\n",
    "Utilizando el generador implementado en el ejercicio 1:\n",
    "- Implementar un método para generar variables aleatorias con distribución normal con media 10 y desvío 2.\n",
    "- Graficar la distribución que siguen los números pseudoaleatorios generados.\n",
    "- Realizar, al menos 2 tests, de los explicados en la materia, para verificar si los números generados siguen la distribución pedida (evalué los resultados para distintos tamaños de muestra)."
   ]
  },
  {
   "cell_type": "markdown",
   "id": "22e3fe4e",
   "metadata": {},
   "source": [
    "## Ejercicio 4\n",
    "\n",
    "La llegada de vehículos a un estacionamiento sigue un proceso de Poisson de tasa λ vehículos/hora. En el trabajo práctico se incluye un archivo con números pseudoaleatorios que representan los tiempos entre arribos de dichos vehículos.\n",
    "- Realice una estimación de la tasa de arribos y proponga un test para evaluar si los números pseudoaleatorios provistos siguen la distribución esperada.\n",
    "- Utilizando el GCL implementado en el Ejercicio 1 simular la llegada de vehículos durante un mes. Graficar la cantidad de arribos en función del tiempo.\n",
    "- Generar 1000 realizaciones del proceso de Poisson para estimar las siguientes probabilidades:\n",
    "  1. Probabilidad que el primer vehículo arribe antes de los 10 minutos.\n",
    "  2. Probabilidad que el undécimo vehículo arribe después de los 60 minutos.\n",
    "  3. Probabilidad que arriben al menos 750 vehículos antes de las 72 horas.\n",
    "\n",
    "Comparar con los valores teóricos."
   ]
  },
  {
   "cell_type": "markdown",
   "id": "f67c6345",
   "metadata": {},
   "source": [
    "## Ejercicio 5\n",
    "\n",
    "A partir del generador de número al azar implementado en el ejercicio 1, y del dataset provisto, obtenido del sitio de datos abiertos del Gobierno de la Ciudad de Buenos Aires (data.buenosaires.gob.ar), el cual contiene información geográfica de barrios de la Ciudad de Buenos Aires, se pide:\n",
    "- Proponer e implementar un método que permita generar coordenadas (latitud y longitud) distribuidas de forma uniforme en cada uno de los barrios.\n",
    "- Graficar los puntos generados en el mapa"
   ]
  },
  {
   "cell_type": "markdown",
   "id": "fc3db816",
   "metadata": {},
   "source": [
    "## Ejercicio 6\n",
    "Comparar los resultados obtenidos en los ejercicios 1 a 5 utilizando el generador de números al azar propuesto en el paper asignado, con los resultados que se obtendrían con un Generador Congruencial Lineal de módulo 232, multiplicador 1013904223, incremento de 1664525 y semilla igual a la parte entera del promedio de los números de padrón de los integrantes del grupo."
   ]
  },
  {
   "cell_type": "code",
   "execution_count": null,
   "id": "87218bee",
   "metadata": {},
   "outputs": [],
   "source": []
  }
 ],
 "metadata": {
  "kernelspec": {
   "display_name": "Python 3 (ipykernel)",
   "language": "python",
   "name": "python3"
  }
 },
 "nbformat": 4,
 "nbformat_minor": 5
}
