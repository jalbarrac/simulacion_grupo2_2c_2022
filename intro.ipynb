{
 "cells": [
  {
   "cell_type": "markdown",
   "id": "a9c76841",
   "metadata": {},
   "source": [
    "# Trabajos Prácticos de Simulación [75.26]\n",
    "\n",
    "- Albarracin, Dario Javier - 97568\n",
    "- Bergman, Guido Ernesto - 104030\n",
    "- del Mazo, Federico - 100029\n",
    "- Rodriguez, Florencia - 100033\n",
    "- Salgueiro Da Costa Riberio, Joao Luís"
   ]
  },
  {
   "cell_type": "markdown",
   "id": "8f3d2b95",
   "metadata": {},
   "source": [
    "<link rel=\"stylesheet\" href=\"custom.css\">"
   ]
  }
 ],
 "metadata": {
  "kernelspec": {
   "display_name": "Python 3 (ipykernel)",
   "language": "python",
   "name": "python3"
  },
  "language_info": {
   "codemirror_mode": {
    "name": "ipython",
    "version": 3
   },
   "file_extension": ".py",
   "mimetype": "text/x-python",
   "name": "python",
   "nbconvert_exporter": "python",
   "pygments_lexer": "ipython3",
   "version": "3.10.6"
  }
 },
 "nbformat": 4,
 "nbformat_minor": 5
}
